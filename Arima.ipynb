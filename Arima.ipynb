{
 "cells": [
  {
   "cell_type": "markdown",
   "id": "5ced4d46",
   "metadata": {},
   "source": [
    "ARIMA stands for Auto-Regressive Integrated Moving Average."
   ]
  },
  {
   "cell_type": "code",
   "execution_count": 1,
   "id": "a87f310f",
   "metadata": {},
   "outputs": [],
   "source": [
    "import pandas as pd  \n",
    "import numpy as np\n",
    "import matplotlib.pyplot as plt\n",
    "from statsmodels.tsa.ar_model import AutoReg\n",
    "from sklearn.metrics import mean_absolute_error, mean_squared_error\n",
    "\n",
    "df=pd.read_csv(\"international-airline-passengers.csv\")"
   ]
  },
  {
   "cell_type": "code",
   "execution_count": 2,
   "id": "4797f8fb",
   "metadata": {},
   "outputs": [],
   "source": [
    "import warnings\n",
    "warnings.filterwarnings('ignore')"
   ]
  },
  {
   "cell_type": "code",
   "execution_count": 3,
   "id": "3988db20",
   "metadata": {},
   "outputs": [],
   "source": [
    "df.columns = ['Month','Passenger']"
   ]
  },
  {
   "cell_type": "code",
   "execution_count": 4,
   "id": "789a4fec",
   "metadata": {},
   "outputs": [
    {
     "data": {
      "text/html": [
       "<div>\n",
       "<style scoped>\n",
       "    .dataframe tbody tr th:only-of-type {\n",
       "        vertical-align: middle;\n",
       "    }\n",
       "\n",
       "    .dataframe tbody tr th {\n",
       "        vertical-align: top;\n",
       "    }\n",
       "\n",
       "    .dataframe thead th {\n",
       "        text-align: right;\n",
       "    }\n",
       "</style>\n",
       "<table border=\"1\" class=\"dataframe\">\n",
       "  <thead>\n",
       "    <tr style=\"text-align: right;\">\n",
       "      <th></th>\n",
       "      <th>Month</th>\n",
       "      <th>Passenger</th>\n",
       "    </tr>\n",
       "  </thead>\n",
       "  <tbody>\n",
       "    <tr>\n",
       "      <th>0</th>\n",
       "      <td>1949-01</td>\n",
       "      <td>112</td>\n",
       "    </tr>\n",
       "    <tr>\n",
       "      <th>1</th>\n",
       "      <td>1949-02</td>\n",
       "      <td>118</td>\n",
       "    </tr>\n",
       "    <tr>\n",
       "      <th>2</th>\n",
       "      <td>1949-03</td>\n",
       "      <td>132</td>\n",
       "    </tr>\n",
       "    <tr>\n",
       "      <th>3</th>\n",
       "      <td>1949-04</td>\n",
       "      <td>129</td>\n",
       "    </tr>\n",
       "    <tr>\n",
       "      <th>4</th>\n",
       "      <td>1949-05</td>\n",
       "      <td>121</td>\n",
       "    </tr>\n",
       "    <tr>\n",
       "      <th>...</th>\n",
       "      <td>...</td>\n",
       "      <td>...</td>\n",
       "    </tr>\n",
       "    <tr>\n",
       "      <th>139</th>\n",
       "      <td>1960-08</td>\n",
       "      <td>606</td>\n",
       "    </tr>\n",
       "    <tr>\n",
       "      <th>140</th>\n",
       "      <td>1960-09</td>\n",
       "      <td>508</td>\n",
       "    </tr>\n",
       "    <tr>\n",
       "      <th>141</th>\n",
       "      <td>1960-10</td>\n",
       "      <td>461</td>\n",
       "    </tr>\n",
       "    <tr>\n",
       "      <th>142</th>\n",
       "      <td>1960-11</td>\n",
       "      <td>390</td>\n",
       "    </tr>\n",
       "    <tr>\n",
       "      <th>143</th>\n",
       "      <td>1960-12</td>\n",
       "      <td>432</td>\n",
       "    </tr>\n",
       "  </tbody>\n",
       "</table>\n",
       "<p>144 rows × 2 columns</p>\n",
       "</div>"
      ],
      "text/plain": [
       "       Month  Passenger\n",
       "0    1949-01        112\n",
       "1    1949-02        118\n",
       "2    1949-03        132\n",
       "3    1949-04        129\n",
       "4    1949-05        121\n",
       "..       ...        ...\n",
       "139  1960-08        606\n",
       "140  1960-09        508\n",
       "141  1960-10        461\n",
       "142  1960-11        390\n",
       "143  1960-12        432\n",
       "\n",
       "[144 rows x 2 columns]"
      ]
     },
     "execution_count": 4,
     "metadata": {},
     "output_type": "execute_result"
    }
   ],
   "source": [
    "df"
   ]
  },
  {
   "cell_type": "code",
   "execution_count": 5,
   "id": "6c8e3784",
   "metadata": {},
   "outputs": [],
   "source": [
    "df['Month'] = pd.to_datetime(df['Month'],format='%Y-%m')"
   ]
  },
  {
   "cell_type": "code",
   "execution_count": 6,
   "id": "7c15d1d1",
   "metadata": {},
   "outputs": [
    {
     "data": {
      "text/plain": [
       "0     1949-01-01\n",
       "1     1949-02-01\n",
       "2     1949-03-01\n",
       "3     1949-04-01\n",
       "4     1949-05-01\n",
       "         ...    \n",
       "139   1960-08-01\n",
       "140   1960-09-01\n",
       "141   1960-10-01\n",
       "142   1960-11-01\n",
       "143   1960-12-01\n",
       "Name: Month, Length: 144, dtype: datetime64[ns]"
      ]
     },
     "execution_count": 6,
     "metadata": {},
     "output_type": "execute_result"
    }
   ],
   "source": [
    "df['Month']"
   ]
  },
  {
   "cell_type": "code",
   "execution_count": 7,
   "id": "5fcaa1d1",
   "metadata": {},
   "outputs": [],
   "source": [
    "df.set_index('Month',inplace=True)"
   ]
  },
  {
   "cell_type": "code",
   "execution_count": 8,
   "id": "27a3fe7c",
   "metadata": {},
   "outputs": [],
   "source": [
    "split_point = int(len(df) * 0.8)\n",
    "train_data, test_data = df.iloc[:split_point], df.iloc[split_point:]"
   ]
  },
  {
   "cell_type": "code",
   "execution_count": 9,
   "id": "b433ac2a",
   "metadata": {},
   "outputs": [],
   "source": [
    "# Fit the AR model\n",
    "ar_model = AutoReg(train_data['Passenger'],lags=5)\n",
    "ar_results = ar_model.fit()"
   ]
  },
  {
   "cell_type": "code",
   "execution_count": 10,
   "id": "ad3c1474",
   "metadata": {},
   "outputs": [],
   "source": [
    "#Make predictions on the test set\n",
    "y_pred = ar_results.predict(start=len(train_data), end=len(train_data) + len(test_data) - 1, dynamic=False)"
   ]
  },
  {
   "cell_type": "code",
   "execution_count": 12,
   "id": "215333be",
   "metadata": {},
   "outputs": [
    {
     "name": "stdout",
     "output_type": "stream",
     "text": [
      "Mean Absolute Error: 66.05\n",
      "Root Mean Squared Error: 77.73\n"
     ]
    }
   ],
   "source": [
    "#Calculate MAE & RMSE\n",
    "mae = mean_absolute_error(test_data['Passenger'],y_pred)\n",
    "rmse = np.sqrt(mean_squared_error(test_data['Passenger'],y_pred))\n",
    "print(f'Mean Absolute Error: {mae:.2f}')\n",
    "print(f'Root Mean Squared Error: {rmse:.2f}')"
   ]
  },
  {
   "cell_type": "code",
   "execution_count": 13,
   "id": "5c05216d",
   "metadata": {},
   "outputs": [
    {
     "data": {
      "image/png": "[encoded data removed]",
      "text/plain": [
       "<Figure size 1200x600 with 1 Axes>"
      ]
     },
     "metadata": {},
     "output_type": "display_data"
    }
   ],
   "source": [
    "#Plot train, test and prediction\n",
    "plt.figure(figsize=(12, 6))\n",
    "plt.plot(train_data['Passenger'],label='Train')\n",
    "plt.plot(test_data['Passenger'],label='Test')\n",
    "plt.plot(test_data.index, y_pred, label='Predictions', color='red')\n",
    "plt.legend()\n",
    "plt.show()"
   ]
  },
  {
   "cell_type": "code",
   "execution_count": 17,
   "id": "17f74a96",
   "metadata": {},
   "outputs": [
    {
     "name": "stdout",
     "output_type": "stream",
     "text": [
      "Model saved successfully\n"
     ]
    }
   ],
   "source": [
    "import pickle\n",
    "from statsmodels.tsa.ar_model import AutoReg\n",
    "\n",
    "# Fit the AutoReg model\n",
    "model_ar = AutoReg(train_data['Passenger'], lags=5)\n",
    "model_ar_fit = model_ar.fit()\n",
    "\n",
    "# Save the fitted model using pickle\n",
    "with open('arima.pkl', 'wb') as file:\n",
    "    pickle.dump(model_ar_fit, file)\n",
    "\n",
    "print('Model saved successfully')\n"
   ]
  },
  {
   "cell_type": "code",
   "execution_count": 18,
   "id": "fa812f42",
   "metadata": {},
   "outputs": [
    {
     "name": "stdout",
     "output_type": "stream",
     "text": [
      "File 'passengerpredict.py' has been saved.\n"
     ]
    }
   ],
   "source": [
    "# Define the content of the updated Streamlit script\n",
    "streamlit_code = \"\"\"\n",
    "import streamlit as st\n",
    "import pickle\n",
    "import numpy as np\n",
    "from datetime import datetime, timedelta\n",
    "from dateutil.relativedelta import relativedelta\n",
    "\n",
    "# Load the pre-trained forecasting model\n",
    "with open('arima.pkl', 'rb') as file:\n",
    "    model = pickle.load(file)\n",
    "    \n",
    "# Create the web app\n",
    "st.title('Passenger Prediction App')\n",
    "\n",
    "# Input: Select a base date\n",
    "base_date = st.date_input(\"Select the base date:\", value=datetime.today())\n",
    "\n",
    "# Input: Enter the number of months for prediction\n",
    "month_delta = st.number_input('Number of months to predict:', min_value=1, max_value=120, value=1)\n",
    "\n",
    "# Generate future dates based on the inputs\n",
    "future_dates = [base_date + relativedelta(months=i) for i in range(1, month_delta + 1)]\n",
    "\n",
    "# Prepare a DataFrame for prediction\n",
    "future_data = pd.DataFrame({'Date': future_dates})\n",
    "future_data['Month'] = future_data['Date'].dt.month  # Extract month if required\n",
    "future_data['Year'] = future_data['Date'].dt.year   # Extract year if required\n",
    "\n",
    "# Predict passengers\n",
    "st.write(\"### Predicting Passenger Count...\")\n",
    "try:\n",
    "    predictions = model.predict(start=len(future_dates), end=len(future_dates+ prediction\")\n",
    "Finallym>\n",
    "    Finally.\n",
    "\n",
    "\n",
    "\n",
    "\"\"\"\n",
    "\n",
    "# Specify the file path where the passengerpredict.py file will be saved\n",
    "file_path = 'passengerpredict.py'\n",
    "\n",
    "# Write the content to the file\n",
    "with open(file_path, 'w') as file:\n",
    "    file.write(streamlit_code)\n",
    "\n",
    "print(f\"File '{file_path}' has been saved.\")\n"
   ]
  }
 ],
 "metadata": {
  "kernelspec": {
   "display_name": "Python 3 (ipykernel)",
   "language": "python",
   "name": "python3"
  },
  "language_info": {
   "codemirror_mode": {
    "name": "ipython",
    "version": 3
   },
   "file_extension": ".py",
   "mimetype": "text/x-python",
   "name": "python",
   "nbconvert_exporter": "python",
   "pygments_lexer": "ipython3",
   "version": "3.9.7"
  }
 },
 "nbformat": 4,
 "nbformat_minor": 5
}
